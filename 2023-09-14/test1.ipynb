{
 "cells": [
  {
   "cell_type": "code",
   "execution_count": 5,
   "metadata": {},
   "outputs": [
    {
     "name": "stdout",
     "output_type": "stream",
     "text": [
      "<class 'int'>\n",
      "52.573\n",
      "<class 'float'>\n"
     ]
    }
   ],
   "source": [
    "print(type(273))\n",
    "print(52.573)\n",
    "print(type(52.273))"
   ]
  },
  {
   "cell_type": "code",
   "execution_count": 8,
   "id": "e4fa7df6",
   "metadata": {},
   "outputs": [
    {
     "name": "stdout",
     "output_type": "stream",
     "text": [
      "5+7= 12\n",
      "3/2= 1.5\n",
      "3//2= 1\n",
      "6%2= 1\n",
      "2**2= 4\n"
     ]
    }
   ],
   "source": [
    "print(\"5+7=\",5+7)\n",
    "print(\"3/2=\",3/2)\n",
    "print(\"3//2=\",3//2)\n",
    "print(\"6%2=\",5%2)\n",
    "print(\"2**2=\",2**2)"
   ]
  },
  {
   "cell_type": "code",
   "execution_count": 9,
   "id": "28c44044",
   "metadata": {},
   "outputs": [
    {
     "name": "stdout",
     "output_type": "stream",
     "text": [
      "안녕273\n"
     ]
    }
   ],
   "source": [
    "string = \"안녕\"\n",
    "number = \"273\"\n",
    "print(string+number)"
   ]
  },
  {
   "cell_type": "code",
   "execution_count": 12,
   "id": "815a0d5d",
   "metadata": {},
   "outputs": [
    {
     "name": "stdout",
     "output_type": "stream",
     "text": [
      "3.14159265\n"
     ]
    }
   ],
   "source": [
    "pi=3.14159265\n",
    "print(pi)\n",
    "# print(pi+\"demo_error\")"
   ]
  }
 ],
 "metadata": {
  "kernelspec": {
   "display_name": "Python 3",
   "language": "python",
   "name": "python3"
  },
  "language_info": {
   "codemirror_mode": {
    "name": "ipython",
    "version": 3
   },
   "file_extension": ".py",
   "mimetype": "text/x-python",
   "name": "python",
   "nbconvert_exporter": "python",
   "pygments_lexer": "ipython3",
   "version": "3.11.5"
  }
 },
 "nbformat": 4,
 "nbformat_minor": 5
}
